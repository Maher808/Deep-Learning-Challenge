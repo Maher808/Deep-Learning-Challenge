{
  "nbformat": 4,
  "nbformat_minor": 0,
  "metadata": {
    "colab": {
      "provenance": []
    },
    "kernelspec": {
      "name": "python3",
      "display_name": "Python 3"
    },
    "language_info": {
      "name": "python"
    }
  },
  "cells": [
    {
      "cell_type": "code",
      "execution_count": null,
      "metadata": {
        "id": "DAacsODXcwiQ"
      },
      "outputs": [],
      "source": []
    },
    {
      "cell_type": "markdown",
      "source": [
        "#**Load the data and perform preprocessing:**"
      ],
      "metadata": {
        "id": "ZF7AR1TQczlk"
      }
    },
    {
      "cell_type": "code",
      "source": [
        "import pandas as pd\n",
        "from sklearn.model_selection import train_test_split\n",
        "from sklearn.preprocessing import StandardScaler\n",
        "import tensorflow as tf"
      ],
      "metadata": {
        "id": "0GApjT_8c1LN"
      },
      "execution_count": 1,
      "outputs": []
    },
    {
      "cell_type": "code",
      "source": [
        "# Load the data\n",
        "url = \"https://static.bc-edx.com/data/dl-1-2/m21/lms/starter/charity_data.csv\"\n",
        "df = pd.read_csv(url)"
      ],
      "metadata": {
        "id": "IWE4MH3Vc4vI"
      },
      "execution_count": 2,
      "outputs": []
    },
    {
      "cell_type": "code",
      "source": [
        "# Drop columns 'EIN' and 'NAME'\n",
        "df = df.drop(columns=['EIN', 'NAME'])"
      ],
      "metadata": {
        "id": "OxmjXkCcdC8N"
      },
      "execution_count": 3,
      "outputs": []
    },
    {
      "cell_type": "code",
      "source": [
        "# Binning for 'APPLICATION_TYPE' column\n",
        "application_counts = df['APPLICATION_TYPE'].value_counts()\n",
        "cutoff = 500\n",
        "other_types = list(application_counts[application_counts < cutoff].index)\n",
        "df['APPLICATION_TYPE'] = df['APPLICATION_TYPE'].apply(lambda x: 'Other' if x in other_types else x)"
      ],
      "metadata": {
        "id": "MxxbvNerdEV8"
      },
      "execution_count": 4,
      "outputs": []
    },
    {
      "cell_type": "code",
      "source": [
        "# Binning for 'CLASSIFICATION' column\n",
        "classification_counts = df['CLASSIFICATION'].value_counts()\n",
        "cutoff = 1000\n",
        "other_classifications = list(classification_counts[classification_counts < cutoff].index)\n",
        "df['CLASSIFICATION'] = df['CLASSIFICATION'].apply(lambda x: 'Other' if x in other_classifications else x)"
      ],
      "metadata": {
        "id": "gnZ9B0HEdHN8"
      },
      "execution_count": 5,
      "outputs": []
    },
    {
      "cell_type": "code",
      "source": [
        "# Convert categorical data to numeric using one-hot encoding\n",
        "df = pd.get_dummies(df)"
      ],
      "metadata": {
        "id": "Oy6SeKSedJMF"
      },
      "execution_count": 6,
      "outputs": []
    },
    {
      "cell_type": "code",
      "source": [
        "# Splitting the data into features and target\n",
        "X = df.drop(columns=['IS_SUCCESSFUL'])\n",
        "y = df['IS_SUCCESSFUL']"
      ],
      "metadata": {
        "id": "dwQ_FOOKdLOR"
      },
      "execution_count": 7,
      "outputs": []
    },
    {
      "cell_type": "code",
      "source": [
        "# Splitting the data into training and testing sets\n",
        "X_train, X_test, y_train, y_test = train_test_split(X, y, random_state=42, stratify=y)"
      ],
      "metadata": {
        "id": "IMryRZ4-dM21"
      },
      "execution_count": 8,
      "outputs": []
    },
    {
      "cell_type": "code",
      "source": [
        "# Standardizing the data\n",
        "scaler = StandardScaler()\n",
        "X_train_scaled = scaler.fit_transform(X_train)\n",
        "X_test_scaled = scaler.transform(X_test)"
      ],
      "metadata": {
        "id": "oItPshSndOVV"
      },
      "execution_count": 9,
      "outputs": []
    },
    {
      "cell_type": "markdown",
      "source": [
        "#**Optimize the model:**"
      ],
      "metadata": {
        "id": "seWCY8AEefxd"
      }
    },
    {
      "cell_type": "code",
      "source": [
        "# Building the neural network model\n",
        "model = tf.keras.models.Sequential([\n",
        "    tf.keras.layers.Dense(units=80, input_dim=len(X_train_scaled[0]), activation='relu'),\n",
        "    tf.keras.layers.Dense(units=30, activation='relu'),\n",
        "    tf.keras.layers.Dense(units=1, activation='sigmoid')\n",
        "])"
      ],
      "metadata": {
        "id": "yF8q8JQidQu8"
      },
      "execution_count": 10,
      "outputs": []
    },
    {
      "cell_type": "code",
      "source": [
        "# Compiling the model\n",
        "model.compile(loss='binary_crossentropy', optimizer='adam', metrics=['accuracy'])"
      ],
      "metadata": {
        "id": "5kqufdfJdSPE"
      },
      "execution_count": 11,
      "outputs": []
    },
    {
      "cell_type": "code",
      "source": [
        "# Training the model\n",
        "model.fit(X_train_scaled, y_train, epochs=100, verbose=2)"
      ],
      "metadata": {
        "colab": {
          "base_uri": "https://localhost:8080/"
        },
        "id": "pIQGSa2RdUPF",
        "outputId": "0bcb284b-e07e-4ca0-ef68-015be4b15152"
      },
      "execution_count": 12,
      "outputs": [
        {
          "output_type": "stream",
          "name": "stdout",
          "text": [
            "Epoch 1/100\n",
            "804/804 - 3s - loss: 0.5711 - accuracy: 0.7220 - 3s/epoch - 4ms/step\n",
            "Epoch 2/100\n",
            "804/804 - 1s - loss: 0.5553 - accuracy: 0.7309 - 1s/epoch - 1ms/step\n",
            "Epoch 3/100\n",
            "804/804 - 1s - loss: 0.5525 - accuracy: 0.7309 - 1s/epoch - 1ms/step\n",
            "Epoch 4/100\n",
            "804/804 - 1s - loss: 0.5500 - accuracy: 0.7325 - 1s/epoch - 1ms/step\n",
            "Epoch 5/100\n",
            "804/804 - 1s - loss: 0.5489 - accuracy: 0.7331 - 1s/epoch - 2ms/step\n",
            "Epoch 6/100\n",
            "804/804 - 3s - loss: 0.5478 - accuracy: 0.7341 - 3s/epoch - 3ms/step\n",
            "Epoch 7/100\n",
            "804/804 - 2s - loss: 0.5467 - accuracy: 0.7342 - 2s/epoch - 3ms/step\n",
            "Epoch 8/100\n",
            "804/804 - 2s - loss: 0.5459 - accuracy: 0.7338 - 2s/epoch - 2ms/step\n",
            "Epoch 9/100\n",
            "804/804 - 2s - loss: 0.5461 - accuracy: 0.7359 - 2s/epoch - 3ms/step\n",
            "Epoch 10/100\n",
            "804/804 - 2s - loss: 0.5444 - accuracy: 0.7358 - 2s/epoch - 3ms/step\n",
            "Epoch 11/100\n",
            "804/804 - 3s - loss: 0.5440 - accuracy: 0.7360 - 3s/epoch - 4ms/step\n",
            "Epoch 12/100\n",
            "804/804 - 2s - loss: 0.5441 - accuracy: 0.7363 - 2s/epoch - 2ms/step\n",
            "Epoch 13/100\n",
            "804/804 - 2s - loss: 0.5439 - accuracy: 0.7357 - 2s/epoch - 2ms/step\n",
            "Epoch 14/100\n",
            "804/804 - 1s - loss: 0.5429 - accuracy: 0.7368 - 1s/epoch - 2ms/step\n",
            "Epoch 15/100\n",
            "804/804 - 1s - loss: 0.5431 - accuracy: 0.7373 - 1s/epoch - 1ms/step\n",
            "Epoch 16/100\n",
            "804/804 - 1s - loss: 0.5433 - accuracy: 0.7377 - 1s/epoch - 1ms/step\n",
            "Epoch 17/100\n",
            "804/804 - 1s - loss: 0.5425 - accuracy: 0.7362 - 1s/epoch - 1ms/step\n",
            "Epoch 18/100\n",
            "804/804 - 1s - loss: 0.5417 - accuracy: 0.7374 - 1s/epoch - 1ms/step\n",
            "Epoch 19/100\n",
            "804/804 - 1s - loss: 0.5425 - accuracy: 0.7375 - 1s/epoch - 1ms/step\n",
            "Epoch 20/100\n",
            "804/804 - 2s - loss: 0.5417 - accuracy: 0.7387 - 2s/epoch - 2ms/step\n",
            "Epoch 21/100\n",
            "804/804 - 1s - loss: 0.5410 - accuracy: 0.7394 - 1s/epoch - 2ms/step\n",
            "Epoch 22/100\n",
            "804/804 - 1s - loss: 0.5413 - accuracy: 0.7378 - 1s/epoch - 2ms/step\n",
            "Epoch 23/100\n",
            "804/804 - 1s - loss: 0.5410 - accuracy: 0.7379 - 1s/epoch - 1ms/step\n",
            "Epoch 24/100\n",
            "804/804 - 1s - loss: 0.5404 - accuracy: 0.7380 - 1s/epoch - 1ms/step\n",
            "Epoch 25/100\n",
            "804/804 - 1s - loss: 0.5406 - accuracy: 0.7383 - 1s/epoch - 1ms/step\n",
            "Epoch 26/100\n",
            "804/804 - 1s - loss: 0.5403 - accuracy: 0.7384 - 1s/epoch - 1ms/step\n",
            "Epoch 27/100\n",
            "804/804 - 1s - loss: 0.5402 - accuracy: 0.7390 - 1s/epoch - 1ms/step\n",
            "Epoch 28/100\n",
            "804/804 - 1s - loss: 0.5405 - accuracy: 0.7391 - 1s/epoch - 1ms/step\n",
            "Epoch 29/100\n",
            "804/804 - 1s - loss: 0.5400 - accuracy: 0.7387 - 1s/epoch - 2ms/step\n",
            "Epoch 30/100\n",
            "804/804 - 2s - loss: 0.5396 - accuracy: 0.7386 - 2s/epoch - 2ms/step\n",
            "Epoch 31/100\n",
            "804/804 - 1s - loss: 0.5399 - accuracy: 0.7395 - 1s/epoch - 2ms/step\n",
            "Epoch 32/100\n",
            "804/804 - 1s - loss: 0.5396 - accuracy: 0.7387 - 1s/epoch - 1ms/step\n",
            "Epoch 33/100\n",
            "804/804 - 1s - loss: 0.5395 - accuracy: 0.7390 - 1s/epoch - 1ms/step\n",
            "Epoch 34/100\n",
            "804/804 - 1s - loss: 0.5393 - accuracy: 0.7398 - 1s/epoch - 1ms/step\n",
            "Epoch 35/100\n",
            "804/804 - 1s - loss: 0.5388 - accuracy: 0.7398 - 1s/epoch - 1ms/step\n",
            "Epoch 36/100\n",
            "804/804 - 1s - loss: 0.5393 - accuracy: 0.7402 - 1s/epoch - 1ms/step\n",
            "Epoch 37/100\n",
            "804/804 - 1s - loss: 0.5386 - accuracy: 0.7384 - 1s/epoch - 1ms/step\n",
            "Epoch 38/100\n",
            "804/804 - 1s - loss: 0.5386 - accuracy: 0.7393 - 1s/epoch - 1ms/step\n",
            "Epoch 39/100\n",
            "804/804 - 1s - loss: 0.5388 - accuracy: 0.7383 - 1s/epoch - 1ms/step\n",
            "Epoch 40/100\n",
            "804/804 - 2s - loss: 0.5385 - accuracy: 0.7399 - 2s/epoch - 2ms/step\n",
            "Epoch 41/100\n",
            "804/804 - 1s - loss: 0.5386 - accuracy: 0.7390 - 1s/epoch - 2ms/step\n",
            "Epoch 42/100\n",
            "804/804 - 1s - loss: 0.5383 - accuracy: 0.7402 - 1s/epoch - 1ms/step\n",
            "Epoch 43/100\n",
            "804/804 - 1s - loss: 0.5381 - accuracy: 0.7397 - 1s/epoch - 1ms/step\n",
            "Epoch 44/100\n",
            "804/804 - 1s - loss: 0.5384 - accuracy: 0.7391 - 1s/epoch - 1ms/step\n",
            "Epoch 45/100\n",
            "804/804 - 1s - loss: 0.5377 - accuracy: 0.7402 - 1s/epoch - 1ms/step\n",
            "Epoch 46/100\n",
            "804/804 - 1s - loss: 0.5381 - accuracy: 0.7395 - 1s/epoch - 1ms/step\n",
            "Epoch 47/100\n",
            "804/804 - 1s - loss: 0.5380 - accuracy: 0.7401 - 1s/epoch - 1ms/step\n",
            "Epoch 48/100\n",
            "804/804 - 1s - loss: 0.5376 - accuracy: 0.7411 - 1s/epoch - 1ms/step\n",
            "Epoch 49/100\n",
            "804/804 - 1s - loss: 0.5375 - accuracy: 0.7399 - 1s/epoch - 1ms/step\n",
            "Epoch 50/100\n",
            "804/804 - 1s - loss: 0.5378 - accuracy: 0.7403 - 1s/epoch - 2ms/step\n",
            "Epoch 51/100\n",
            "804/804 - 2s - loss: 0.5376 - accuracy: 0.7393 - 2s/epoch - 2ms/step\n",
            "Epoch 52/100\n",
            "804/804 - 1s - loss: 0.5378 - accuracy: 0.7395 - 1s/epoch - 2ms/step\n",
            "Epoch 53/100\n",
            "804/804 - 1s - loss: 0.5369 - accuracy: 0.7404 - 1s/epoch - 1ms/step\n",
            "Epoch 54/100\n",
            "804/804 - 1s - loss: 0.5374 - accuracy: 0.7406 - 1s/epoch - 1ms/step\n",
            "Epoch 55/100\n",
            "804/804 - 1s - loss: 0.5370 - accuracy: 0.7398 - 1s/epoch - 1ms/step\n",
            "Epoch 56/100\n",
            "804/804 - 1s - loss: 0.5372 - accuracy: 0.7402 - 1s/epoch - 1ms/step\n",
            "Epoch 57/100\n",
            "804/804 - 1s - loss: 0.5366 - accuracy: 0.7409 - 1s/epoch - 1ms/step\n",
            "Epoch 58/100\n",
            "804/804 - 1s - loss: 0.5363 - accuracy: 0.7407 - 1s/epoch - 1ms/step\n",
            "Epoch 59/100\n",
            "804/804 - 1s - loss: 0.5364 - accuracy: 0.7411 - 1s/epoch - 1ms/step\n",
            "Epoch 60/100\n",
            "804/804 - 1s - loss: 0.5370 - accuracy: 0.7401 - 1s/epoch - 1ms/step\n",
            "Epoch 61/100\n",
            "804/804 - 1s - loss: 0.5366 - accuracy: 0.7407 - 1s/epoch - 2ms/step\n",
            "Epoch 62/100\n",
            "804/804 - 2s - loss: 0.5367 - accuracy: 0.7409 - 2s/epoch - 2ms/step\n",
            "Epoch 63/100\n",
            "804/804 - 1s - loss: 0.5364 - accuracy: 0.7405 - 1s/epoch - 1ms/step\n",
            "Epoch 64/100\n",
            "804/804 - 1s - loss: 0.5365 - accuracy: 0.7403 - 1s/epoch - 1ms/step\n",
            "Epoch 65/100\n",
            "804/804 - 1s - loss: 0.5364 - accuracy: 0.7409 - 1s/epoch - 1ms/step\n",
            "Epoch 66/100\n",
            "804/804 - 1s - loss: 0.5366 - accuracy: 0.7400 - 1s/epoch - 1ms/step\n",
            "Epoch 67/100\n",
            "804/804 - 1s - loss: 0.5361 - accuracy: 0.7411 - 1s/epoch - 1ms/step\n",
            "Epoch 68/100\n",
            "804/804 - 1s - loss: 0.5361 - accuracy: 0.7413 - 1s/epoch - 1ms/step\n",
            "Epoch 69/100\n",
            "804/804 - 1s - loss: 0.5360 - accuracy: 0.7404 - 1s/epoch - 1ms/step\n",
            "Epoch 70/100\n",
            "804/804 - 1s - loss: 0.5362 - accuracy: 0.7406 - 1s/epoch - 1ms/step\n",
            "Epoch 71/100\n",
            "804/804 - 1s - loss: 0.5359 - accuracy: 0.7408 - 1s/epoch - 1ms/step\n",
            "Epoch 72/100\n",
            "804/804 - 2s - loss: 0.5359 - accuracy: 0.7412 - 2s/epoch - 2ms/step\n",
            "Epoch 73/100\n",
            "804/804 - 1s - loss: 0.5357 - accuracy: 0.7408 - 1s/epoch - 2ms/step\n",
            "Epoch 74/100\n",
            "804/804 - 1s - loss: 0.5355 - accuracy: 0.7407 - 1s/epoch - 1ms/step\n",
            "Epoch 75/100\n",
            "804/804 - 1s - loss: 0.5355 - accuracy: 0.7414 - 1s/epoch - 1ms/step\n",
            "Epoch 76/100\n",
            "804/804 - 1s - loss: 0.5359 - accuracy: 0.7403 - 1s/epoch - 1ms/step\n",
            "Epoch 77/100\n",
            "804/804 - 1s - loss: 0.5356 - accuracy: 0.7406 - 1s/epoch - 1ms/step\n",
            "Epoch 78/100\n",
            "804/804 - 1s - loss: 0.5354 - accuracy: 0.7410 - 1s/epoch - 1ms/step\n",
            "Epoch 79/100\n",
            "804/804 - 1s - loss: 0.5354 - accuracy: 0.7405 - 1s/epoch - 1ms/step\n",
            "Epoch 80/100\n",
            "804/804 - 1s - loss: 0.5352 - accuracy: 0.7415 - 1s/epoch - 1ms/step\n",
            "Epoch 81/100\n",
            "804/804 - 1s - loss: 0.5355 - accuracy: 0.7411 - 1s/epoch - 1ms/step\n",
            "Epoch 82/100\n",
            "804/804 - 1s - loss: 0.5353 - accuracy: 0.7404 - 1s/epoch - 2ms/step\n",
            "Epoch 83/100\n",
            "804/804 - 2s - loss: 0.5353 - accuracy: 0.7415 - 2s/epoch - 2ms/step\n",
            "Epoch 84/100\n",
            "804/804 - 1s - loss: 0.5349 - accuracy: 0.7410 - 1s/epoch - 1ms/step\n",
            "Epoch 85/100\n",
            "804/804 - 1s - loss: 0.5353 - accuracy: 0.7406 - 1s/epoch - 1ms/step\n",
            "Epoch 86/100\n",
            "804/804 - 1s - loss: 0.5351 - accuracy: 0.7415 - 1s/epoch - 1ms/step\n",
            "Epoch 87/100\n",
            "804/804 - 1s - loss: 0.5349 - accuracy: 0.7407 - 1s/epoch - 2ms/step\n",
            "Epoch 88/100\n",
            "804/804 - 1s - loss: 0.5354 - accuracy: 0.7411 - 1s/epoch - 1ms/step\n",
            "Epoch 89/100\n",
            "804/804 - 1s - loss: 0.5345 - accuracy: 0.7408 - 1s/epoch - 1ms/step\n",
            "Epoch 90/100\n",
            "804/804 - 1s - loss: 0.5346 - accuracy: 0.7412 - 1s/epoch - 1ms/step\n",
            "Epoch 91/100\n",
            "804/804 - 1s - loss: 0.5344 - accuracy: 0.7408 - 1s/epoch - 1ms/step\n",
            "Epoch 92/100\n",
            "804/804 - 1s - loss: 0.5346 - accuracy: 0.7410 - 1s/epoch - 1ms/step\n",
            "Epoch 93/100\n",
            "804/804 - 2s - loss: 0.5350 - accuracy: 0.7412 - 2s/epoch - 2ms/step\n",
            "Epoch 94/100\n",
            "804/804 - 1s - loss: 0.5345 - accuracy: 0.7415 - 1s/epoch - 2ms/step\n",
            "Epoch 95/100\n",
            "804/804 - 1s - loss: 0.5344 - accuracy: 0.7420 - 1s/epoch - 1ms/step\n",
            "Epoch 96/100\n",
            "804/804 - 1s - loss: 0.5342 - accuracy: 0.7413 - 1s/epoch - 1ms/step\n",
            "Epoch 97/100\n",
            "804/804 - 1s - loss: 0.5343 - accuracy: 0.7416 - 1s/epoch - 1ms/step\n",
            "Epoch 98/100\n",
            "804/804 - 1s - loss: 0.5347 - accuracy: 0.7418 - 1s/epoch - 1ms/step\n",
            "Epoch 99/100\n",
            "804/804 - 1s - loss: 0.5341 - accuracy: 0.7421 - 1s/epoch - 1ms/step\n",
            "Epoch 100/100\n",
            "804/804 - 1s - loss: 0.5338 - accuracy: 0.7414 - 1s/epoch - 1ms/step\n"
          ]
        },
        {
          "output_type": "execute_result",
          "data": {
            "text/plain": [
              "<keras.src.callbacks.History at 0x7cbcba174220>"
            ]
          },
          "metadata": {},
          "execution_count": 12
        }
      ]
    },
    {
      "cell_type": "code",
      "source": [
        "# Evaluating the model\n",
        "model_loss, model_accuracy = model.evaluate(X_test_scaled, y_test, verbose=2)\n",
        "print(f\"Loss: {model_loss}, Accuracy: {model_accuracy}\")"
      ],
      "metadata": {
        "colab": {
          "base_uri": "https://localhost:8080/"
        },
        "id": "zpmWvgK2dWfl",
        "outputId": "453ae7d4-208d-4e8b-b51f-52f9db3edc63"
      },
      "execution_count": 13,
      "outputs": [
        {
          "output_type": "stream",
          "name": "stdout",
          "text": [
            "268/268 - 0s - loss: 0.5593 - accuracy: 0.7254 - 472ms/epoch - 2ms/step\n",
            "Loss: 0.5592831373214722, Accuracy: 0.7253644466400146\n"
          ]
        }
      ]
    },
    {
      "cell_type": "code",
      "source": [
        "# Saving the model\n",
        "model.save(\"Fourth_AlphabetSoupCharity_Optimization.h5\")"
      ],
      "metadata": {
        "colab": {
          "base_uri": "https://localhost:8080/"
        },
        "id": "Ry4DQWkadY4-",
        "outputId": "d8b016d6-08b4-4ff5-ec09-12834a5d9dd7"
      },
      "execution_count": 14,
      "outputs": [
        {
          "output_type": "stream",
          "name": "stderr",
          "text": [
            "/usr/local/lib/python3.10/dist-packages/keras/src/engine/training.py:3103: UserWarning: You are saving your model as an HDF5 file via `model.save()`. This file format is considered legacy. We recommend using instead the native Keras format, e.g. `model.save('my_model.keras')`.\n",
            "  saving_api.save_model(\n"
          ]
        }
      ]
    }
  ]
}