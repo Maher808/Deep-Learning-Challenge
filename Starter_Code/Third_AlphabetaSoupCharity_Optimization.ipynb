{
  "nbformat": 4,
  "nbformat_minor": 0,
  "metadata": {
    "colab": {
      "provenance": []
    },
    "kernelspec": {
      "name": "python3",
      "display_name": "Python 3"
    },
    "language_info": {
      "name": "python"
    }
  },
  "cells": [
    {
      "cell_type": "markdown",
      "source": [],
      "metadata": {
        "id": "VcB_SaD9ZkTE"
      }
    },
    {
      "cell_type": "markdown",
      "source": [
        "#**Load the data and perform preprocessing:**"
      ],
      "metadata": {
        "id": "aq2rXPRdZm7h"
      }
    },
    {
      "cell_type": "code",
      "execution_count": 1,
      "metadata": {
        "id": "eQ7a2rD9ZHqe"
      },
      "outputs": [],
      "source": [
        "# Importing necessary libraries\n",
        "import pandas as pd\n",
        "from sklearn.model_selection import train_test_split\n",
        "from sklearn.preprocessing import StandardScaler\n",
        "import tensorflow as tf"
      ]
    },
    {
      "cell_type": "code",
      "source": [
        "# Loading the data\n",
        "url = \"https://static.bc-edx.com/data/dl-1-2/m21/lms/starter/charity_data.csv\"\n",
        "df = pd.read_csv(url)"
      ],
      "metadata": {
        "id": "tHEoHrfoZqWp"
      },
      "execution_count": 2,
      "outputs": []
    },
    {
      "cell_type": "code",
      "source": [
        "# Drop columns 'EIN' and 'NAME'\n",
        "df = df.drop(columns=['EIN', 'NAME'])"
      ],
      "metadata": {
        "id": "0K9QAJJsZr2Z"
      },
      "execution_count": 3,
      "outputs": []
    },
    {
      "cell_type": "code",
      "source": [
        "# Binning for 'APPLICATION_TYPE' column\n",
        "application_type_counts = df['APPLICATION_TYPE'].value_counts()\n",
        "cutoff = 500\n",
        "other_types = list(application_type_counts[application_type_counts < cutoff].index)\n",
        "df['APPLICATION_TYPE'] = df['APPLICATION_TYPE'].apply(lambda x: 'Other' if x in other_types else x)\n"
      ],
      "metadata": {
        "id": "TM7fR0MnZtyd"
      },
      "execution_count": 4,
      "outputs": []
    },
    {
      "cell_type": "code",
      "source": [
        "# Binning for 'CLASSIFICATION' column\n",
        "classification_counts = df['CLASSIFICATION'].value_counts()\n",
        "cutoff = 1000\n",
        "other_classifications = list(classification_counts[classification_counts < cutoff].index)\n",
        "df['CLASSIFICATION'] = df['CLASSIFICATION'].apply(lambda x: 'Other' if x in other_classifications else x)"
      ],
      "metadata": {
        "id": "Y3kFs6SHZvY1"
      },
      "execution_count": 5,
      "outputs": []
    },
    {
      "cell_type": "code",
      "source": [
        "# Convert categorical data to numeric using one-hot encoding\n",
        "df = pd.get_dummies(df)"
      ],
      "metadata": {
        "id": "wgJ_ssDHZx7V"
      },
      "execution_count": 6,
      "outputs": []
    },
    {
      "cell_type": "code",
      "source": [
        "# Splitting the data into features and target\n",
        "X = df.drop(columns=['IS_SUCCESSFUL'])\n",
        "y = df['IS_SUCCESSFUL']"
      ],
      "metadata": {
        "id": "HUh7ehULZ0KN"
      },
      "execution_count": 7,
      "outputs": []
    },
    {
      "cell_type": "code",
      "source": [
        "# Splitting the data into training and testing sets\n",
        "X_train, X_test, y_train, y_test = train_test_split(X, y, random_state=42, stratify=y)"
      ],
      "metadata": {
        "id": "DXQukhIIZ1-l"
      },
      "execution_count": 8,
      "outputs": []
    },
    {
      "cell_type": "code",
      "source": [
        "# Standardizing the data\n",
        "scaler = StandardScaler()\n",
        "X_train_scaled = scaler.fit_transform(X_train)\n",
        "X_test_scaled = scaler.transform(X_test)"
      ],
      "metadata": {
        "id": "c_k8Thp8Z3mE"
      },
      "execution_count": 9,
      "outputs": []
    },
    {
      "cell_type": "markdown",
      "source": [
        "#**Optimize the model:**"
      ],
      "metadata": {
        "id": "jPlaFKiwatfA"
      }
    },
    {
      "cell_type": "code",
      "source": [
        "# Building the neural network model\n",
        "model = tf.keras.models.Sequential([\n",
        "    tf.keras.layers.Dense(units=80, input_dim=len(X_train_scaled[0]), activation='relu'),\n",
        "    tf.keras.layers.Dense(units=30, activation='relu'),\n",
        "    tf.keras.layers.Dense(units=1, activation='sigmoid')\n",
        "])"
      ],
      "metadata": {
        "id": "xS3mOOmgZ59G"
      },
      "execution_count": 10,
      "outputs": []
    },
    {
      "cell_type": "code",
      "source": [
        "# Compiling the model\n",
        "model.compile(loss='binary_crossentropy', optimizer='adam', metrics=['accuracy'])"
      ],
      "metadata": {
        "id": "S5TBWostZ8HF"
      },
      "execution_count": 11,
      "outputs": []
    },
    {
      "cell_type": "code",
      "source": [
        "# Training the model\n",
        "model.fit(X_train_scaled, y_train, epochs=200, verbose=2)"
      ],
      "metadata": {
        "colab": {
          "base_uri": "https://localhost:8080/"
        },
        "id": "hjp7q_pgZ-ie",
        "outputId": "5ba19d60-0aec-4215-b7b5-2d2910702793"
      },
      "execution_count": 16,
      "outputs": [
        {
          "output_type": "stream",
          "name": "stdout",
          "text": [
            "Epoch 1/200\n",
            "804/804 - 3s - loss: 0.5344 - accuracy: 0.7417 - 3s/epoch - 3ms/step\n",
            "Epoch 2/200\n",
            "804/804 - 2s - loss: 0.5338 - accuracy: 0.7420 - 2s/epoch - 2ms/step\n",
            "Epoch 3/200\n",
            "804/804 - 1s - loss: 0.5339 - accuracy: 0.7418 - 1s/epoch - 1ms/step\n",
            "Epoch 4/200\n",
            "804/804 - 1s - loss: 0.5340 - accuracy: 0.7412 - 1s/epoch - 1ms/step\n",
            "Epoch 5/200\n",
            "804/804 - 1s - loss: 0.5340 - accuracy: 0.7411 - 1s/epoch - 1ms/step\n",
            "Epoch 6/200\n",
            "804/804 - 1s - loss: 0.5335 - accuracy: 0.7421 - 1s/epoch - 1ms/step\n",
            "Epoch 7/200\n",
            "804/804 - 1s - loss: 0.5335 - accuracy: 0.7418 - 1s/epoch - 1ms/step\n",
            "Epoch 8/200\n",
            "804/804 - 1s - loss: 0.5341 - accuracy: 0.7419 - 1s/epoch - 1ms/step\n",
            "Epoch 9/200\n",
            "804/804 - 1s - loss: 0.5337 - accuracy: 0.7414 - 1s/epoch - 1ms/step\n",
            "Epoch 10/200\n",
            "804/804 - 1s - loss: 0.5336 - accuracy: 0.7414 - 1s/epoch - 1ms/step\n",
            "Epoch 11/200\n",
            "804/804 - 1s - loss: 0.5334 - accuracy: 0.7419 - 1s/epoch - 2ms/step\n",
            "Epoch 12/200\n",
            "804/804 - 2s - loss: 0.5330 - accuracy: 0.7416 - 2s/epoch - 2ms/step\n",
            "Epoch 13/200\n",
            "804/804 - 1s - loss: 0.5337 - accuracy: 0.7416 - 1s/epoch - 2ms/step\n",
            "Epoch 14/200\n",
            "804/804 - 1s - loss: 0.5330 - accuracy: 0.7420 - 1s/epoch - 1ms/step\n",
            "Epoch 15/200\n",
            "804/804 - 1s - loss: 0.5334 - accuracy: 0.7423 - 1s/epoch - 1ms/step\n",
            "Epoch 16/200\n",
            "804/804 - 1s - loss: 0.5333 - accuracy: 0.7425 - 1s/epoch - 1ms/step\n",
            "Epoch 17/200\n",
            "804/804 - 1s - loss: 0.5335 - accuracy: 0.7420 - 1s/epoch - 1ms/step\n",
            "Epoch 18/200\n",
            "804/804 - 1s - loss: 0.5337 - accuracy: 0.7417 - 1s/epoch - 1ms/step\n",
            "Epoch 19/200\n",
            "804/804 - 1s - loss: 0.5333 - accuracy: 0.7414 - 1s/epoch - 1ms/step\n",
            "Epoch 20/200\n",
            "804/804 - 1s - loss: 0.5331 - accuracy: 0.7417 - 1s/epoch - 1ms/step\n",
            "Epoch 21/200\n",
            "804/804 - 1s - loss: 0.5334 - accuracy: 0.7420 - 1s/epoch - 1ms/step\n",
            "Epoch 22/200\n",
            "804/804 - 1s - loss: 0.5332 - accuracy: 0.7417 - 1s/epoch - 2ms/step\n",
            "Epoch 23/200\n",
            "804/804 - 2s - loss: 0.5341 - accuracy: 0.7423 - 2s/epoch - 2ms/step\n",
            "Epoch 24/200\n",
            "804/804 - 1s - loss: 0.5334 - accuracy: 0.7420 - 1s/epoch - 1ms/step\n",
            "Epoch 25/200\n",
            "804/804 - 1s - loss: 0.5332 - accuracy: 0.7416 - 1s/epoch - 1ms/step\n",
            "Epoch 26/200\n",
            "804/804 - 1s - loss: 0.5329 - accuracy: 0.7423 - 1s/epoch - 1ms/step\n",
            "Epoch 27/200\n",
            "804/804 - 1s - loss: 0.5338 - accuracy: 0.7422 - 1s/epoch - 1ms/step\n",
            "Epoch 28/200\n",
            "804/804 - 1s - loss: 0.5331 - accuracy: 0.7418 - 1s/epoch - 1ms/step\n",
            "Epoch 29/200\n",
            "804/804 - 1s - loss: 0.5325 - accuracy: 0.7422 - 1s/epoch - 1ms/step\n",
            "Epoch 30/200\n",
            "804/804 - 1s - loss: 0.5330 - accuracy: 0.7419 - 1s/epoch - 1ms/step\n",
            "Epoch 31/200\n",
            "804/804 - 1s - loss: 0.5326 - accuracy: 0.7418 - 1s/epoch - 1ms/step\n",
            "Epoch 32/200\n",
            "804/804 - 1s - loss: 0.5328 - accuracy: 0.7417 - 1s/epoch - 2ms/step\n",
            "Epoch 33/200\n",
            "804/804 - 2s - loss: 0.5331 - accuracy: 0.7419 - 2s/epoch - 2ms/step\n",
            "Epoch 34/200\n",
            "804/804 - 1s - loss: 0.5329 - accuracy: 0.7417 - 1s/epoch - 2ms/step\n",
            "Epoch 35/200\n",
            "804/804 - 1s - loss: 0.5329 - accuracy: 0.7428 - 1s/epoch - 1ms/step\n",
            "Epoch 36/200\n",
            "804/804 - 1s - loss: 0.5330 - accuracy: 0.7418 - 1s/epoch - 1ms/step\n",
            "Epoch 37/200\n",
            "804/804 - 1s - loss: 0.5323 - accuracy: 0.7421 - 1s/epoch - 1ms/step\n",
            "Epoch 38/200\n",
            "804/804 - 1s - loss: 0.5325 - accuracy: 0.7424 - 1s/epoch - 1ms/step\n",
            "Epoch 39/200\n",
            "804/804 - 1s - loss: 0.5324 - accuracy: 0.7423 - 1s/epoch - 1ms/step\n",
            "Epoch 40/200\n",
            "804/804 - 1s - loss: 0.5324 - accuracy: 0.7416 - 1s/epoch - 1ms/step\n",
            "Epoch 41/200\n",
            "804/804 - 1s - loss: 0.5327 - accuracy: 0.7420 - 1s/epoch - 1ms/step\n",
            "Epoch 42/200\n",
            "804/804 - 1s - loss: 0.5324 - accuracy: 0.7420 - 1s/epoch - 1ms/step\n",
            "Epoch 43/200\n",
            "804/804 - 2s - loss: 0.5352 - accuracy: 0.7412 - 2s/epoch - 2ms/step\n",
            "Epoch 44/200\n",
            "804/804 - 2s - loss: 0.5329 - accuracy: 0.7415 - 2s/epoch - 2ms/step\n",
            "Epoch 45/200\n",
            "804/804 - 1s - loss: 0.5322 - accuracy: 0.7416 - 1s/epoch - 1ms/step\n",
            "Epoch 46/200\n",
            "804/804 - 1s - loss: 0.5336 - accuracy: 0.7421 - 1s/epoch - 1ms/step\n",
            "Epoch 47/200\n",
            "804/804 - 1s - loss: 0.5324 - accuracy: 0.7425 - 1s/epoch - 1ms/step\n",
            "Epoch 48/200\n",
            "804/804 - 1s - loss: 0.5322 - accuracy: 0.7421 - 1s/epoch - 1ms/step\n",
            "Epoch 49/200\n",
            "804/804 - 1s - loss: 0.5321 - accuracy: 0.7425 - 1s/epoch - 1ms/step\n",
            "Epoch 50/200\n",
            "804/804 - 1s - loss: 0.5328 - accuracy: 0.7422 - 1s/epoch - 1ms/step\n",
            "Epoch 51/200\n",
            "804/804 - 1s - loss: 0.5326 - accuracy: 0.7427 - 1s/epoch - 1ms/step\n",
            "Epoch 52/200\n",
            "804/804 - 1s - loss: 0.5321 - accuracy: 0.7429 - 1s/epoch - 1ms/step\n",
            "Epoch 53/200\n",
            "804/804 - 1s - loss: 0.5326 - accuracy: 0.7425 - 1s/epoch - 2ms/step\n",
            "Epoch 54/200\n",
            "804/804 - 2s - loss: 0.5322 - accuracy: 0.7421 - 2s/epoch - 2ms/step\n",
            "Epoch 55/200\n",
            "804/804 - 1s - loss: 0.5325 - accuracy: 0.7425 - 1s/epoch - 1ms/step\n",
            "Epoch 56/200\n",
            "804/804 - 1s - loss: 0.5322 - accuracy: 0.7419 - 1s/epoch - 1ms/step\n",
            "Epoch 57/200\n",
            "804/804 - 1s - loss: 0.5322 - accuracy: 0.7416 - 1s/epoch - 1ms/step\n",
            "Epoch 58/200\n",
            "804/804 - 1s - loss: 0.5317 - accuracy: 0.7421 - 1s/epoch - 1ms/step\n",
            "Epoch 59/200\n",
            "804/804 - 1s - loss: 0.5325 - accuracy: 0.7423 - 1s/epoch - 1ms/step\n",
            "Epoch 60/200\n",
            "804/804 - 1s - loss: 0.5322 - accuracy: 0.7428 - 1s/epoch - 1ms/step\n",
            "Epoch 61/200\n",
            "804/804 - 1s - loss: 0.5323 - accuracy: 0.7421 - 1s/epoch - 1ms/step\n",
            "Epoch 62/200\n",
            "804/804 - 1s - loss: 0.5324 - accuracy: 0.7423 - 1s/epoch - 1ms/step\n",
            "Epoch 63/200\n",
            "804/804 - 1s - loss: 0.5327 - accuracy: 0.7415 - 1s/epoch - 1ms/step\n",
            "Epoch 64/200\n",
            "804/804 - 2s - loss: 0.5320 - accuracy: 0.7425 - 2s/epoch - 2ms/step\n",
            "Epoch 65/200\n",
            "804/804 - 1s - loss: 0.5317 - accuracy: 0.7420 - 1s/epoch - 1ms/step\n",
            "Epoch 66/200\n",
            "804/804 - 1s - loss: 0.5322 - accuracy: 0.7425 - 1s/epoch - 1ms/step\n",
            "Epoch 67/200\n",
            "804/804 - 1s - loss: 0.5321 - accuracy: 0.7421 - 1s/epoch - 1ms/step\n",
            "Epoch 68/200\n",
            "804/804 - 1s - loss: 0.5321 - accuracy: 0.7425 - 1s/epoch - 1ms/step\n",
            "Epoch 69/200\n",
            "804/804 - 1s - loss: 0.5315 - accuracy: 0.7426 - 1s/epoch - 1ms/step\n",
            "Epoch 70/200\n",
            "804/804 - 1s - loss: 0.5326 - accuracy: 0.7421 - 1s/epoch - 1ms/step\n",
            "Epoch 71/200\n",
            "804/804 - 1s - loss: 0.5321 - accuracy: 0.7422 - 1s/epoch - 1ms/step\n",
            "Epoch 72/200\n",
            "804/804 - 1s - loss: 0.5320 - accuracy: 0.7428 - 1s/epoch - 1ms/step\n",
            "Epoch 73/200\n",
            "804/804 - 1s - loss: 0.5317 - accuracy: 0.7423 - 1s/epoch - 1ms/step\n",
            "Epoch 74/200\n",
            "804/804 - 2s - loss: 0.5320 - accuracy: 0.7422 - 2s/epoch - 2ms/step\n",
            "Epoch 75/200\n",
            "804/804 - 1s - loss: 0.5322 - accuracy: 0.7425 - 1s/epoch - 2ms/step\n",
            "Epoch 76/200\n",
            "804/804 - 1s - loss: 0.5323 - accuracy: 0.7418 - 1s/epoch - 1ms/step\n",
            "Epoch 77/200\n",
            "804/804 - 1s - loss: 0.5349 - accuracy: 0.7424 - 1s/epoch - 1ms/step\n",
            "Epoch 78/200\n",
            "804/804 - 1s - loss: 0.5317 - accuracy: 0.7430 - 1s/epoch - 2ms/step\n",
            "Epoch 79/200\n",
            "804/804 - 1s - loss: 0.5318 - accuracy: 0.7416 - 1s/epoch - 1ms/step\n",
            "Epoch 80/200\n",
            "804/804 - 1s - loss: 0.5321 - accuracy: 0.7427 - 1s/epoch - 1ms/step\n",
            "Epoch 81/200\n",
            "804/804 - 1s - loss: 0.5313 - accuracy: 0.7424 - 1s/epoch - 1ms/step\n",
            "Epoch 82/200\n",
            "804/804 - 1s - loss: 0.5319 - accuracy: 0.7425 - 1s/epoch - 1ms/step\n",
            "Epoch 83/200\n",
            "804/804 - 1s - loss: 0.5315 - accuracy: 0.7427 - 1s/epoch - 1ms/step\n",
            "Epoch 84/200\n",
            "804/804 - 1s - loss: 0.5328 - accuracy: 0.7422 - 1s/epoch - 2ms/step\n",
            "Epoch 85/200\n",
            "804/804 - 2s - loss: 0.5316 - accuracy: 0.7425 - 2s/epoch - 2ms/step\n",
            "Epoch 86/200\n",
            "804/804 - 1s - loss: 0.5321 - accuracy: 0.7429 - 1s/epoch - 1ms/step\n",
            "Epoch 87/200\n",
            "804/804 - 1s - loss: 0.5318 - accuracy: 0.7424 - 1s/epoch - 1ms/step\n",
            "Epoch 88/200\n",
            "804/804 - 1s - loss: 0.5310 - accuracy: 0.7427 - 1s/epoch - 1ms/step\n",
            "Epoch 89/200\n",
            "804/804 - 1s - loss: 0.5314 - accuracy: 0.7425 - 1s/epoch - 1ms/step\n",
            "Epoch 90/200\n",
            "804/804 - 1s - loss: 0.5320 - accuracy: 0.7421 - 1s/epoch - 2ms/step\n",
            "Epoch 91/200\n",
            "804/804 - 1s - loss: 0.5319 - accuracy: 0.7428 - 1s/epoch - 1ms/step\n",
            "Epoch 92/200\n",
            "804/804 - 1s - loss: 0.5329 - accuracy: 0.7423 - 1s/epoch - 1ms/step\n",
            "Epoch 93/200\n",
            "804/804 - 1s - loss: 0.5339 - accuracy: 0.7426 - 1s/epoch - 1ms/step\n",
            "Epoch 94/200\n",
            "804/804 - 2s - loss: 0.5314 - accuracy: 0.7425 - 2s/epoch - 2ms/step\n",
            "Epoch 95/200\n",
            "804/804 - 2s - loss: 0.5310 - accuracy: 0.7429 - 2s/epoch - 2ms/step\n",
            "Epoch 96/200\n",
            "804/804 - 1s - loss: 0.5314 - accuracy: 0.7424 - 1s/epoch - 1ms/step\n",
            "Epoch 97/200\n",
            "804/804 - 1s - loss: 0.5310 - accuracy: 0.7430 - 1s/epoch - 1ms/step\n",
            "Epoch 98/200\n",
            "804/804 - 1s - loss: 0.5314 - accuracy: 0.7424 - 1s/epoch - 1ms/step\n",
            "Epoch 99/200\n",
            "804/804 - 1s - loss: 0.5312 - accuracy: 0.7427 - 1s/epoch - 1ms/step\n",
            "Epoch 100/200\n",
            "804/804 - 1s - loss: 0.5314 - accuracy: 0.7418 - 1s/epoch - 1ms/step\n",
            "Epoch 101/200\n",
            "804/804 - 1s - loss: 0.5322 - accuracy: 0.7425 - 1s/epoch - 1ms/step\n",
            "Epoch 102/200\n",
            "804/804 - 1s - loss: 0.5313 - accuracy: 0.7426 - 1s/epoch - 1ms/step\n",
            "Epoch 103/200\n",
            "804/804 - 1s - loss: 0.5311 - accuracy: 0.7427 - 1s/epoch - 1ms/step\n",
            "Epoch 104/200\n",
            "804/804 - 1s - loss: 0.5315 - accuracy: 0.7428 - 1s/epoch - 2ms/step\n",
            "Epoch 105/200\n",
            "804/804 - 2s - loss: 0.5313 - accuracy: 0.7428 - 2s/epoch - 2ms/step\n",
            "Epoch 106/200\n",
            "804/804 - 1s - loss: 0.5314 - accuracy: 0.7427 - 1s/epoch - 1ms/step\n",
            "Epoch 107/200\n",
            "804/804 - 1s - loss: 0.5313 - accuracy: 0.7420 - 1s/epoch - 1ms/step\n",
            "Epoch 108/200\n",
            "804/804 - 1s - loss: 0.5313 - accuracy: 0.7428 - 1s/epoch - 2ms/step\n",
            "Epoch 109/200\n",
            "804/804 - 1s - loss: 0.5312 - accuracy: 0.7424 - 1s/epoch - 1ms/step\n",
            "Epoch 110/200\n",
            "804/804 - 1s - loss: 0.5316 - accuracy: 0.7425 - 1s/epoch - 1ms/step\n",
            "Epoch 111/200\n",
            "804/804 - 1s - loss: 0.5313 - accuracy: 0.7426 - 1s/epoch - 1ms/step\n",
            "Epoch 112/200\n",
            "804/804 - 1s - loss: 0.5308 - accuracy: 0.7428 - 1s/epoch - 1ms/step\n",
            "Epoch 113/200\n",
            "804/804 - 1s - loss: 0.5311 - accuracy: 0.7425 - 1s/epoch - 1ms/step\n",
            "Epoch 114/200\n",
            "804/804 - 1s - loss: 0.5310 - accuracy: 0.7427 - 1s/epoch - 2ms/step\n",
            "Epoch 115/200\n",
            "804/804 - 2s - loss: 0.5312 - accuracy: 0.7428 - 2s/epoch - 2ms/step\n",
            "Epoch 116/200\n",
            "804/804 - 1s - loss: 0.5326 - accuracy: 0.7425 - 1s/epoch - 1ms/step\n",
            "Epoch 117/200\n",
            "804/804 - 1s - loss: 0.5316 - accuracy: 0.7429 - 1s/epoch - 1ms/step\n",
            "Epoch 118/200\n",
            "804/804 - 1s - loss: 0.5314 - accuracy: 0.7421 - 1s/epoch - 1ms/step\n",
            "Epoch 119/200\n",
            "804/804 - 1s - loss: 0.5317 - accuracy: 0.7430 - 1s/epoch - 1ms/step\n",
            "Epoch 120/200\n",
            "804/804 - 1s - loss: 0.5312 - accuracy: 0.7426 - 1s/epoch - 1ms/step\n",
            "Epoch 121/200\n",
            "804/804 - 1s - loss: 0.5307 - accuracy: 0.7425 - 1s/epoch - 1ms/step\n",
            "Epoch 122/200\n",
            "804/804 - 1s - loss: 0.5312 - accuracy: 0.7427 - 1s/epoch - 1ms/step\n",
            "Epoch 123/200\n",
            "804/804 - 1s - loss: 0.5313 - accuracy: 0.7426 - 1s/epoch - 1ms/step\n",
            "Epoch 124/200\n",
            "804/804 - 1s - loss: 0.5309 - accuracy: 0.7429 - 1s/epoch - 1ms/step\n",
            "Epoch 125/200\n",
            "804/804 - 2s - loss: 0.5310 - accuracy: 0.7422 - 2s/epoch - 2ms/step\n",
            "Epoch 126/200\n",
            "804/804 - 1s - loss: 0.5305 - accuracy: 0.7428 - 1s/epoch - 2ms/step\n",
            "Epoch 127/200\n",
            "804/804 - 1s - loss: 0.5310 - accuracy: 0.7430 - 1s/epoch - 1ms/step\n",
            "Epoch 128/200\n",
            "804/804 - 1s - loss: 0.5317 - accuracy: 0.7425 - 1s/epoch - 1ms/step\n",
            "Epoch 129/200\n",
            "804/804 - 1s - loss: 0.5320 - accuracy: 0.7431 - 1s/epoch - 1ms/step\n",
            "Epoch 130/200\n",
            "804/804 - 1s - loss: 0.5310 - accuracy: 0.7423 - 1s/epoch - 1ms/step\n",
            "Epoch 131/200\n",
            "804/804 - 1s - loss: 0.5309 - accuracy: 0.7430 - 1s/epoch - 1ms/step\n",
            "Epoch 132/200\n",
            "804/804 - 1s - loss: 0.5313 - accuracy: 0.7427 - 1s/epoch - 1ms/step\n",
            "Epoch 133/200\n",
            "804/804 - 1s - loss: 0.5309 - accuracy: 0.7430 - 1s/epoch - 1ms/step\n",
            "Epoch 134/200\n",
            "804/804 - 1s - loss: 0.5307 - accuracy: 0.7431 - 1s/epoch - 1ms/step\n",
            "Epoch 135/200\n",
            "804/804 - 2s - loss: 0.5319 - accuracy: 0.7426 - 2s/epoch - 2ms/step\n",
            "Epoch 136/200\n",
            "804/804 - 1s - loss: 0.5311 - accuracy: 0.7427 - 1s/epoch - 2ms/step\n",
            "Epoch 137/200\n",
            "804/804 - 1s - loss: 0.5313 - accuracy: 0.7428 - 1s/epoch - 1ms/step\n",
            "Epoch 138/200\n",
            "804/804 - 1s - loss: 0.5314 - accuracy: 0.7428 - 1s/epoch - 1ms/step\n",
            "Epoch 139/200\n",
            "804/804 - 1s - loss: 0.5312 - accuracy: 0.7428 - 1s/epoch - 1ms/step\n",
            "Epoch 140/200\n",
            "804/804 - 1s - loss: 0.5305 - accuracy: 0.7432 - 1s/epoch - 1ms/step\n",
            "Epoch 141/200\n",
            "804/804 - 1s - loss: 0.5312 - accuracy: 0.7426 - 1s/epoch - 1ms/step\n",
            "Epoch 142/200\n",
            "804/804 - 1s - loss: 0.5313 - accuracy: 0.7427 - 1s/epoch - 1ms/step\n",
            "Epoch 143/200\n",
            "804/804 - 1s - loss: 0.5312 - accuracy: 0.7424 - 1s/epoch - 1ms/step\n",
            "Epoch 144/200\n",
            "804/804 - 1s - loss: 0.5309 - accuracy: 0.7428 - 1s/epoch - 1ms/step\n",
            "Epoch 145/200\n",
            "804/804 - 1s - loss: 0.5306 - accuracy: 0.7430 - 1s/epoch - 2ms/step\n",
            "Epoch 146/200\n",
            "804/804 - 2s - loss: 0.5304 - accuracy: 0.7428 - 2s/epoch - 2ms/step\n",
            "Epoch 147/200\n",
            "804/804 - 1s - loss: 0.5311 - accuracy: 0.7429 - 1s/epoch - 1ms/step\n",
            "Epoch 148/200\n",
            "804/804 - 1s - loss: 0.5313 - accuracy: 0.7425 - 1s/epoch - 1ms/step\n",
            "Epoch 149/200\n",
            "804/804 - 1s - loss: 0.5305 - accuracy: 0.7427 - 1s/epoch - 1ms/step\n",
            "Epoch 150/200\n",
            "804/804 - 1s - loss: 0.5309 - accuracy: 0.7435 - 1s/epoch - 1ms/step\n",
            "Epoch 151/200\n",
            "804/804 - 1s - loss: 0.5308 - accuracy: 0.7426 - 1s/epoch - 1ms/step\n",
            "Epoch 152/200\n",
            "804/804 - 1s - loss: 0.5311 - accuracy: 0.7435 - 1s/epoch - 1ms/step\n",
            "Epoch 153/200\n",
            "804/804 - 1s - loss: 0.5304 - accuracy: 0.7429 - 1s/epoch - 1ms/step\n",
            "Epoch 154/200\n",
            "804/804 - 1s - loss: 0.5311 - accuracy: 0.7429 - 1s/epoch - 1ms/step\n",
            "Epoch 155/200\n",
            "804/804 - 1s - loss: 0.5309 - accuracy: 0.7423 - 1s/epoch - 2ms/step\n",
            "Epoch 156/200\n",
            "804/804 - 2s - loss: 0.5307 - accuracy: 0.7423 - 2s/epoch - 2ms/step\n",
            "Epoch 157/200\n",
            "804/804 - 1s - loss: 0.5308 - accuracy: 0.7424 - 1s/epoch - 1ms/step\n",
            "Epoch 158/200\n",
            "804/804 - 1s - loss: 0.5301 - accuracy: 0.7429 - 1s/epoch - 1ms/step\n",
            "Epoch 159/200\n",
            "804/804 - 1s - loss: 0.5312 - accuracy: 0.7426 - 1s/epoch - 1ms/step\n",
            "Epoch 160/200\n",
            "804/804 - 1s - loss: 0.5326 - accuracy: 0.7428 - 1s/epoch - 1ms/step\n",
            "Epoch 161/200\n",
            "804/804 - 1s - loss: 0.5310 - accuracy: 0.7427 - 1s/epoch - 1ms/step\n",
            "Epoch 162/200\n",
            "804/804 - 1s - loss: 0.5309 - accuracy: 0.7433 - 1s/epoch - 1ms/step\n",
            "Epoch 163/200\n",
            "804/804 - 1s - loss: 0.5308 - accuracy: 0.7427 - 1s/epoch - 1ms/step\n",
            "Epoch 164/200\n",
            "804/804 - 1s - loss: 0.5304 - accuracy: 0.7428 - 1s/epoch - 1ms/step\n",
            "Epoch 165/200\n",
            "804/804 - 1s - loss: 0.5316 - accuracy: 0.7430 - 1s/epoch - 2ms/step\n",
            "Epoch 166/200\n",
            "804/804 - 2s - loss: 0.5303 - accuracy: 0.7432 - 2s/epoch - 2ms/step\n",
            "Epoch 167/200\n",
            "804/804 - 1s - loss: 0.5307 - accuracy: 0.7433 - 1s/epoch - 1ms/step\n",
            "Epoch 168/200\n",
            "804/804 - 1s - loss: 0.5305 - accuracy: 0.7428 - 1s/epoch - 1ms/step\n",
            "Epoch 169/200\n",
            "804/804 - 1s - loss: 0.5305 - accuracy: 0.7429 - 1s/epoch - 1ms/step\n",
            "Epoch 170/200\n",
            "804/804 - 1s - loss: 0.5316 - accuracy: 0.7430 - 1s/epoch - 1ms/step\n",
            "Epoch 171/200\n",
            "804/804 - 1s - loss: 0.5311 - accuracy: 0.7427 - 1s/epoch - 1ms/step\n",
            "Epoch 172/200\n",
            "804/804 - 1s - loss: 0.5306 - accuracy: 0.7428 - 1s/epoch - 1ms/step\n",
            "Epoch 173/200\n",
            "804/804 - 1s - loss: 0.5304 - accuracy: 0.7427 - 1s/epoch - 1ms/step\n",
            "Epoch 174/200\n",
            "804/804 - 1s - loss: 0.5308 - accuracy: 0.7430 - 1s/epoch - 1ms/step\n",
            "Epoch 175/200\n",
            "804/804 - 1s - loss: 0.5304 - accuracy: 0.7434 - 1s/epoch - 1ms/step\n",
            "Epoch 176/200\n",
            "804/804 - 2s - loss: 0.5314 - accuracy: 0.7428 - 2s/epoch - 2ms/step\n",
            "Epoch 177/200\n",
            "804/804 - 1s - loss: 0.5305 - accuracy: 0.7434 - 1s/epoch - 2ms/step\n",
            "Epoch 178/200\n",
            "804/804 - 1s - loss: 0.5305 - accuracy: 0.7429 - 1s/epoch - 1ms/step\n",
            "Epoch 179/200\n",
            "804/804 - 1s - loss: 0.5308 - accuracy: 0.7428 - 1s/epoch - 2ms/step\n",
            "Epoch 180/200\n",
            "804/804 - 1s - loss: 0.5311 - accuracy: 0.7429 - 1s/epoch - 1ms/step\n",
            "Epoch 181/200\n",
            "804/804 - 1s - loss: 0.5301 - accuracy: 0.7426 - 1s/epoch - 2ms/step\n",
            "Epoch 182/200\n",
            "804/804 - 1s - loss: 0.5298 - accuracy: 0.7428 - 1s/epoch - 1ms/step\n",
            "Epoch 183/200\n",
            "804/804 - 1s - loss: 0.5313 - accuracy: 0.7428 - 1s/epoch - 1ms/step\n",
            "Epoch 184/200\n",
            "804/804 - 1s - loss: 0.5307 - accuracy: 0.7427 - 1s/epoch - 1ms/step\n",
            "Epoch 185/200\n",
            "804/804 - 1s - loss: 0.5306 - accuracy: 0.7437 - 1s/epoch - 1ms/step\n",
            "Epoch 186/200\n",
            "804/804 - 2s - loss: 0.5304 - accuracy: 0.7425 - 2s/epoch - 2ms/step\n",
            "Epoch 187/200\n",
            "804/804 - 1s - loss: 0.5303 - accuracy: 0.7430 - 1s/epoch - 2ms/step\n",
            "Epoch 188/200\n",
            "804/804 - 1s - loss: 0.5301 - accuracy: 0.7431 - 1s/epoch - 1ms/step\n",
            "Epoch 189/200\n",
            "804/804 - 1s - loss: 0.5309 - accuracy: 0.7428 - 1s/epoch - 1ms/step\n",
            "Epoch 190/200\n",
            "804/804 - 1s - loss: 0.5302 - accuracy: 0.7432 - 1s/epoch - 1ms/step\n",
            "Epoch 191/200\n",
            "804/804 - 1s - loss: 0.5308 - accuracy: 0.7434 - 1s/epoch - 1ms/step\n",
            "Epoch 192/200\n",
            "804/804 - 1s - loss: 0.5301 - accuracy: 0.7432 - 1s/epoch - 1ms/step\n",
            "Epoch 193/200\n",
            "804/804 - 1s - loss: 0.5319 - accuracy: 0.7423 - 1s/epoch - 1ms/step\n",
            "Epoch 194/200\n",
            "804/804 - 1s - loss: 0.5302 - accuracy: 0.7431 - 1s/epoch - 1ms/step\n",
            "Epoch 195/200\n",
            "804/804 - 1s - loss: 0.5317 - accuracy: 0.7430 - 1s/epoch - 1ms/step\n",
            "Epoch 196/200\n",
            "804/804 - 2s - loss: 0.5297 - accuracy: 0.7430 - 2s/epoch - 2ms/step\n",
            "Epoch 197/200\n",
            "804/804 - 2s - loss: 0.5306 - accuracy: 0.7431 - 2s/epoch - 2ms/step\n",
            "Epoch 198/200\n",
            "804/804 - 2s - loss: 0.5304 - accuracy: 0.7432 - 2s/epoch - 2ms/step\n",
            "Epoch 199/200\n",
            "804/804 - 1s - loss: 0.5301 - accuracy: 0.7430 - 1s/epoch - 2ms/step\n",
            "Epoch 200/200\n",
            "804/804 - 1s - loss: 0.5301 - accuracy: 0.7430 - 1s/epoch - 1ms/step\n"
          ]
        },
        {
          "output_type": "execute_result",
          "data": {
            "text/plain": [
              "<keras.src.callbacks.History at 0x7db5377f78e0>"
            ]
          },
          "metadata": {},
          "execution_count": 16
        }
      ]
    },
    {
      "cell_type": "code",
      "source": [
        "# Evaluating the model\n",
        "model_loss, model_accuracy = model.evaluate(X_test_scaled, y_test, verbose=2)\n",
        "print(f\"Loss: {model_loss}, Accuracy: {model_accuracy}\")"
      ],
      "metadata": {
        "colab": {
          "base_uri": "https://localhost:8080/"
        },
        "id": "cMR6mCRTaAB9",
        "outputId": "abba9cac-f53f-41cb-8581-efc3828caf18"
      },
      "execution_count": 17,
      "outputs": [
        {
          "output_type": "stream",
          "name": "stdout",
          "text": [
            "268/268 - 0s - loss: 0.5958 - accuracy: 0.7241 - 345ms/epoch - 1ms/step\n",
            "Loss: 0.5958240628242493, Accuracy: 0.7240816354751587\n"
          ]
        }
      ]
    },
    {
      "cell_type": "code",
      "source": [
        "# Saving the model\n",
        "model.save(\"Third_AlphabetSoupCharity_Optimization.h5\")"
      ],
      "metadata": {
        "colab": {
          "base_uri": "https://localhost:8080/"
        },
        "id": "Dziqnpt1aCSx",
        "outputId": "6f29bd63-9e22-4461-f8be-65787e02099d"
      },
      "execution_count": 18,
      "outputs": [
        {
          "output_type": "stream",
          "name": "stderr",
          "text": [
            "/usr/local/lib/python3.10/dist-packages/keras/src/engine/training.py:3103: UserWarning: You are saving your model as an HDF5 file via `model.save()`. This file format is considered legacy. We recommend using instead the native Keras format, e.g. `model.save('my_model.keras')`.\n",
            "  saving_api.save_model(\n"
          ]
        }
      ]
    }
  ]
}