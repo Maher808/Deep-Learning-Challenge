{
  "nbformat": 4,
  "nbformat_minor": 0,
  "metadata": {
    "colab": {
      "provenance": []
    },
    "kernelspec": {
      "name": "python3",
      "display_name": "Python 3"
    },
    "language_info": {
      "name": "python"
    }
  },
  "cells": [
    {
      "cell_type": "markdown",
      "source": [],
      "metadata": {
        "id": "itYExCNfXZR4"
      }
    },
    {
      "cell_type": "markdown",
      "source": [
        "#**Load the data and perform preprocessing:**"
      ],
      "metadata": {
        "id": "_RjiexwQXbVk"
      }
    },
    {
      "cell_type": "code",
      "execution_count": 15,
      "metadata": {
        "id": "ol6tiiQgVWh6"
      },
      "outputs": [],
      "source": [
        "# Importing necessary libraries\n",
        "import pandas as pd\n",
        "from sklearn.model_selection import train_test_split\n",
        "from sklearn.preprocessing import StandardScaler\n",
        "import tensorflow as tf"
      ]
    },
    {
      "cell_type": "code",
      "source": [
        "# Loading the data\n",
        "url = \"https://static.bc-edx.com/data/dl-1-2/m21/lms/starter/charity_data.csv\"\n",
        "df = pd.read_csv(url)"
      ],
      "metadata": {
        "id": "yOgYi7KtVecg"
      },
      "execution_count": 16,
      "outputs": []
    },
    {
      "cell_type": "code",
      "source": [
        "# Preprocessing the data\n",
        "# Drop columns 'EIN' and 'NAME'\n",
        "df = df.drop(columns=['EIN', 'NAME'])"
      ],
      "metadata": {
        "id": "C0cAobEmVgJN"
      },
      "execution_count": 17,
      "outputs": []
    },
    {
      "cell_type": "code",
      "source": [
        "# Binning for 'APPLICATION_TYPE' column\n",
        "application_type_counts = df['APPLICATION_TYPE'].value_counts()\n",
        "cutoff = 500\n",
        "other_types = list(application_type_counts[application_type_counts < cutoff].index)\n",
        "df['APPLICATION_TYPE'] = df['APPLICATION_TYPE'].apply(lambda x: 'Other' if x in other_types else x)"
      ],
      "metadata": {
        "id": "GDf9Uap4ViCX"
      },
      "execution_count": 18,
      "outputs": []
    },
    {
      "cell_type": "code",
      "source": [
        "# Binning for 'CLASSIFICATION' column\n",
        "classification_counts = df['CLASSIFICATION'].value_counts()\n",
        "cutoff = 1000\n",
        "other_classifications = list(classification_counts[classification_counts < cutoff].index)\n",
        "df['CLASSIFICATION'] = df['CLASSIFICATION'].apply(lambda x: 'Other' if x in other_classifications else x)"
      ],
      "metadata": {
        "id": "QID-oRBKVlut"
      },
      "execution_count": 5,
      "outputs": []
    },
    {
      "cell_type": "code",
      "source": [
        "# Convert categorical data to numeric using one-hot encoding\n",
        "df = pd.get_dummies(df)"
      ],
      "metadata": {
        "id": "5KKLsK4sVoZm"
      },
      "execution_count": 19,
      "outputs": []
    },
    {
      "cell_type": "code",
      "source": [
        "# Splitting the data into features and target\n",
        "X = df.drop(columns=['IS_SUCCESSFUL'])\n",
        "y = df['IS_SUCCESSFUL']"
      ],
      "metadata": {
        "id": "gmcygSCDVq-V"
      },
      "execution_count": 20,
      "outputs": []
    },
    {
      "cell_type": "code",
      "source": [
        "# Splitting the data into training and testing sets\n",
        "X_train, X_test, y_train, y_test = train_test_split(X, y, random_state=42, stratify=y)"
      ],
      "metadata": {
        "id": "Ne3LG8Y8Vs6O"
      },
      "execution_count": 21,
      "outputs": []
    },
    {
      "cell_type": "code",
      "source": [
        "# Standardizing the data\n",
        "scaler = StandardScaler()\n",
        "X_train_scaled = scaler.fit_transform(X_train)\n",
        "X_test_scaled = scaler.transform(X_test)"
      ],
      "metadata": {
        "id": "gURuI3cYVu_d"
      },
      "execution_count": 22,
      "outputs": []
    },
    {
      "cell_type": "markdown",
      "source": [
        "#**Optimize the model:**"
      ],
      "metadata": {
        "id": "sCWR6KZxXRAv"
      }
    },
    {
      "cell_type": "code",
      "source": [
        "import tensorflow as tf\n",
        "\n",
        "# Building the neural network model\n",
        "model = tf.keras.models.Sequential([\n",
        "    tf.keras.layers.Dense(units=80, input_dim=len(X_train_scaled[0]), activation='relu'),\n",
        "    tf.keras.layers.Dense(units=30, activation='relu'),\n",
        "    tf.keras.layers.Dense(units=1, activation='sigmoid')\n",
        "])"
      ],
      "metadata": {
        "id": "Hse1OzScVxe-"
      },
      "execution_count": 23,
      "outputs": []
    },
    {
      "cell_type": "code",
      "source": [
        "# Compiling the model\n",
        "model.compile(loss='binary_crossentropy', optimizer='adam', metrics=['accuracy'])"
      ],
      "metadata": {
        "id": "ikAPlVG6VzVl"
      },
      "execution_count": 24,
      "outputs": []
    },
    {
      "cell_type": "code",
      "source": [
        "# Training the model\n",
        "model.fit(X_train_scaled, y_train, epochs=100, verbose=2)"
      ],
      "metadata": {
        "colab": {
          "base_uri": "https://localhost:8080/"
        },
        "id": "Aadz4KeKV1KN",
        "outputId": "f43fda6d-8097-4523-e584-9ef3a64bdf76"
      },
      "execution_count": 25,
      "outputs": [
        {
          "output_type": "stream",
          "name": "stdout",
          "text": [
            "Epoch 1/100\n",
            "804/804 - 2s - loss: 0.5747 - accuracy: 0.7235 - 2s/epoch - 3ms/step\n",
            "Epoch 2/100\n",
            "804/804 - 1s - loss: 0.5520 - accuracy: 0.7308 - 1s/epoch - 1ms/step\n",
            "Epoch 3/100\n",
            "804/804 - 1s - loss: 0.5483 - accuracy: 0.7337 - 1s/epoch - 2ms/step\n",
            "Epoch 4/100\n",
            "804/804 - 1s - loss: 0.5465 - accuracy: 0.7343 - 1s/epoch - 1ms/step\n",
            "Epoch 5/100\n",
            "804/804 - 1s - loss: 0.5458 - accuracy: 0.7346 - 1s/epoch - 1ms/step\n",
            "Epoch 6/100\n",
            "804/804 - 1s - loss: 0.5436 - accuracy: 0.7365 - 1s/epoch - 1ms/step\n",
            "Epoch 7/100\n",
            "804/804 - 1s - loss: 0.5430 - accuracy: 0.7366 - 1s/epoch - 2ms/step\n",
            "Epoch 8/100\n",
            "804/804 - 1s - loss: 0.5414 - accuracy: 0.7365 - 1s/epoch - 2ms/step\n",
            "Epoch 9/100\n",
            "804/804 - 2s - loss: 0.5410 - accuracy: 0.7372 - 2s/epoch - 2ms/step\n",
            "Epoch 10/100\n",
            "804/804 - 1s - loss: 0.5410 - accuracy: 0.7373 - 1s/epoch - 2ms/step\n",
            "Epoch 11/100\n",
            "804/804 - 1s - loss: 0.5400 - accuracy: 0.7377 - 1s/epoch - 1ms/step\n",
            "Epoch 12/100\n",
            "804/804 - 1s - loss: 0.5396 - accuracy: 0.7386 - 1s/epoch - 2ms/step\n",
            "Epoch 13/100\n",
            "804/804 - 1s - loss: 0.5387 - accuracy: 0.7389 - 1s/epoch - 2ms/step\n",
            "Epoch 14/100\n",
            "804/804 - 1s - loss: 0.5380 - accuracy: 0.7385 - 1s/epoch - 1ms/step\n",
            "Epoch 15/100\n",
            "804/804 - 1s - loss: 0.5376 - accuracy: 0.7390 - 1s/epoch - 2ms/step\n",
            "Epoch 16/100\n",
            "804/804 - 1s - loss: 0.5380 - accuracy: 0.7386 - 1s/epoch - 1ms/step\n",
            "Epoch 17/100\n",
            "804/804 - 1s - loss: 0.5376 - accuracy: 0.7393 - 1s/epoch - 1ms/step\n",
            "Epoch 18/100\n",
            "804/804 - 2s - loss: 0.5370 - accuracy: 0.7402 - 2s/epoch - 2ms/step\n",
            "Epoch 19/100\n",
            "804/804 - 2s - loss: 0.5367 - accuracy: 0.7398 - 2s/epoch - 2ms/step\n",
            "Epoch 20/100\n",
            "804/804 - 1s - loss: 0.5366 - accuracy: 0.7400 - 1s/epoch - 1ms/step\n",
            "Epoch 21/100\n",
            "804/804 - 1s - loss: 0.5361 - accuracy: 0.7405 - 1s/epoch - 2ms/step\n",
            "Epoch 22/100\n",
            "804/804 - 1s - loss: 0.5358 - accuracy: 0.7395 - 1s/epoch - 1ms/step\n",
            "Epoch 23/100\n",
            "804/804 - 1s - loss: 0.5353 - accuracy: 0.7399 - 1s/epoch - 1ms/step\n",
            "Epoch 24/100\n",
            "804/804 - 1s - loss: 0.5346 - accuracy: 0.7411 - 1s/epoch - 1ms/step\n",
            "Epoch 25/100\n",
            "804/804 - 1s - loss: 0.5357 - accuracy: 0.7409 - 1s/epoch - 1ms/step\n",
            "Epoch 26/100\n",
            "804/804 - 1s - loss: 0.5345 - accuracy: 0.7400 - 1s/epoch - 1ms/step\n",
            "Epoch 27/100\n",
            "804/804 - 1s - loss: 0.5345 - accuracy: 0.7416 - 1s/epoch - 1ms/step\n",
            "Epoch 28/100\n",
            "804/804 - 2s - loss: 0.5347 - accuracy: 0.7407 - 2s/epoch - 2ms/step\n",
            "Epoch 29/100\n",
            "804/804 - 2s - loss: 0.5346 - accuracy: 0.7407 - 2s/epoch - 2ms/step\n",
            "Epoch 30/100\n",
            "804/804 - 1s - loss: 0.5340 - accuracy: 0.7406 - 1s/epoch - 2ms/step\n",
            "Epoch 31/100\n",
            "804/804 - 1s - loss: 0.5333 - accuracy: 0.7427 - 1s/epoch - 1ms/step\n",
            "Epoch 32/100\n",
            "804/804 - 1s - loss: 0.5329 - accuracy: 0.7415 - 1s/epoch - 1ms/step\n",
            "Epoch 33/100\n",
            "804/804 - 1s - loss: 0.5338 - accuracy: 0.7428 - 1s/epoch - 1ms/step\n",
            "Epoch 34/100\n",
            "804/804 - 1s - loss: 0.5336 - accuracy: 0.7407 - 1s/epoch - 2ms/step\n",
            "Epoch 35/100\n",
            "804/804 - 1s - loss: 0.5328 - accuracy: 0.7423 - 1s/epoch - 1ms/step\n",
            "Epoch 36/100\n",
            "804/804 - 1s - loss: 0.5332 - accuracy: 0.7418 - 1s/epoch - 1ms/step\n",
            "Epoch 37/100\n",
            "804/804 - 1s - loss: 0.5330 - accuracy: 0.7417 - 1s/epoch - 2ms/step\n",
            "Epoch 38/100\n",
            "804/804 - 2s - loss: 0.5327 - accuracy: 0.7416 - 2s/epoch - 2ms/step\n",
            "Epoch 39/100\n",
            "804/804 - 1s - loss: 0.5325 - accuracy: 0.7430 - 1s/epoch - 2ms/step\n",
            "Epoch 40/100\n",
            "804/804 - 1s - loss: 0.5328 - accuracy: 0.7416 - 1s/epoch - 1ms/step\n",
            "Epoch 41/100\n",
            "804/804 - 1s - loss: 0.5318 - accuracy: 0.7428 - 1s/epoch - 1ms/step\n",
            "Epoch 42/100\n",
            "804/804 - 1s - loss: 0.5321 - accuracy: 0.7416 - 1s/epoch - 1ms/step\n",
            "Epoch 43/100\n",
            "804/804 - 1s - loss: 0.5326 - accuracy: 0.7421 - 1s/epoch - 1ms/step\n",
            "Epoch 44/100\n",
            "804/804 - 1s - loss: 0.5321 - accuracy: 0.7423 - 1s/epoch - 2ms/step\n",
            "Epoch 45/100\n",
            "804/804 - 1s - loss: 0.5312 - accuracy: 0.7421 - 1s/epoch - 2ms/step\n",
            "Epoch 46/100\n",
            "804/804 - 1s - loss: 0.5317 - accuracy: 0.7425 - 1s/epoch - 2ms/step\n",
            "Epoch 47/100\n",
            "804/804 - 2s - loss: 0.5314 - accuracy: 0.7425 - 2s/epoch - 2ms/step\n",
            "Epoch 48/100\n",
            "804/804 - 2s - loss: 0.5309 - accuracy: 0.7432 - 2s/epoch - 2ms/step\n",
            "Epoch 49/100\n",
            "804/804 - 1s - loss: 0.5313 - accuracy: 0.7419 - 1s/epoch - 1ms/step\n",
            "Epoch 50/100\n",
            "804/804 - 1s - loss: 0.5310 - accuracy: 0.7421 - 1s/epoch - 2ms/step\n",
            "Epoch 51/100\n",
            "804/804 - 1s - loss: 0.5312 - accuracy: 0.7421 - 1s/epoch - 1ms/step\n",
            "Epoch 52/100\n",
            "804/804 - 1s - loss: 0.5306 - accuracy: 0.7432 - 1s/epoch - 1ms/step\n",
            "Epoch 53/100\n",
            "804/804 - 1s - loss: 0.5306 - accuracy: 0.7436 - 1s/epoch - 2ms/step\n",
            "Epoch 54/100\n",
            "804/804 - 1s - loss: 0.5303 - accuracy: 0.7423 - 1s/epoch - 2ms/step\n",
            "Epoch 55/100\n",
            "804/804 - 1s - loss: 0.5307 - accuracy: 0.7426 - 1s/epoch - 2ms/step\n",
            "Epoch 56/100\n",
            "804/804 - 1s - loss: 0.5306 - accuracy: 0.7428 - 1s/epoch - 2ms/step\n",
            "Epoch 57/100\n",
            "804/804 - 2s - loss: 0.5301 - accuracy: 0.7435 - 2s/epoch - 2ms/step\n",
            "Epoch 58/100\n",
            "804/804 - 1s - loss: 0.5304 - accuracy: 0.7431 - 1s/epoch - 1ms/step\n",
            "Epoch 59/100\n",
            "804/804 - 1s - loss: 0.5303 - accuracy: 0.7421 - 1s/epoch - 1ms/step\n",
            "Epoch 60/100\n",
            "804/804 - 1s - loss: 0.5301 - accuracy: 0.7434 - 1s/epoch - 1ms/step\n",
            "Epoch 61/100\n",
            "804/804 - 1s - loss: 0.5300 - accuracy: 0.7435 - 1s/epoch - 2ms/step\n",
            "Epoch 62/100\n",
            "804/804 - 1s - loss: 0.5300 - accuracy: 0.7429 - 1s/epoch - 1ms/step\n",
            "Epoch 63/100\n",
            "804/804 - 1s - loss: 0.5300 - accuracy: 0.7435 - 1s/epoch - 2ms/step\n",
            "Epoch 64/100\n",
            "804/804 - 1s - loss: 0.5291 - accuracy: 0.7434 - 1s/epoch - 2ms/step\n",
            "Epoch 65/100\n",
            "804/804 - 1s - loss: 0.5298 - accuracy: 0.7430 - 1s/epoch - 2ms/step\n",
            "Epoch 66/100\n",
            "804/804 - 2s - loss: 0.5299 - accuracy: 0.7425 - 2s/epoch - 2ms/step\n",
            "Epoch 67/100\n",
            "804/804 - 1s - loss: 0.5290 - accuracy: 0.7437 - 1s/epoch - 2ms/step\n",
            "Epoch 68/100\n",
            "804/804 - 1s - loss: 0.5295 - accuracy: 0.7441 - 1s/epoch - 2ms/step\n",
            "Epoch 69/100\n",
            "804/804 - 2s - loss: 0.5296 - accuracy: 0.7445 - 2s/epoch - 2ms/step\n",
            "Epoch 70/100\n",
            "804/804 - 1s - loss: 0.5291 - accuracy: 0.7430 - 1s/epoch - 2ms/step\n",
            "Epoch 71/100\n",
            "804/804 - 1s - loss: 0.5292 - accuracy: 0.7440 - 1s/epoch - 1ms/step\n",
            "Epoch 72/100\n",
            "804/804 - 1s - loss: 0.5288 - accuracy: 0.7424 - 1s/epoch - 1ms/step\n",
            "Epoch 73/100\n",
            "804/804 - 1s - loss: 0.5290 - accuracy: 0.7432 - 1s/epoch - 1ms/step\n",
            "Epoch 74/100\n",
            "804/804 - 1s - loss: 0.5287 - accuracy: 0.7435 - 1s/epoch - 2ms/step\n",
            "Epoch 75/100\n",
            "804/804 - 2s - loss: 0.5287 - accuracy: 0.7436 - 2s/epoch - 2ms/step\n",
            "Epoch 76/100\n",
            "804/804 - 1s - loss: 0.5290 - accuracy: 0.7439 - 1s/epoch - 2ms/step\n",
            "Epoch 77/100\n",
            "804/804 - 1s - loss: 0.5290 - accuracy: 0.7430 - 1s/epoch - 1ms/step\n",
            "Epoch 78/100\n",
            "804/804 - 1s - loss: 0.5283 - accuracy: 0.7432 - 1s/epoch - 1ms/step\n",
            "Epoch 79/100\n",
            "804/804 - 1s - loss: 0.5289 - accuracy: 0.7430 - 1s/epoch - 1ms/step\n",
            "Epoch 80/100\n",
            "804/804 - 1s - loss: 0.5283 - accuracy: 0.7437 - 1s/epoch - 1ms/step\n",
            "Epoch 81/100\n",
            "804/804 - 1s - loss: 0.5282 - accuracy: 0.7439 - 1s/epoch - 1ms/step\n",
            "Epoch 82/100\n",
            "804/804 - 1s - loss: 0.5283 - accuracy: 0.7442 - 1s/epoch - 1ms/step\n",
            "Epoch 83/100\n",
            "804/804 - 1s - loss: 0.5283 - accuracy: 0.7439 - 1s/epoch - 1ms/step\n",
            "Epoch 84/100\n",
            "804/804 - 1s - loss: 0.5287 - accuracy: 0.7438 - 1s/epoch - 2ms/step\n",
            "Epoch 85/100\n",
            "804/804 - 2s - loss: 0.5286 - accuracy: 0.7429 - 2s/epoch - 2ms/step\n",
            "Epoch 86/100\n",
            "804/804 - 1s - loss: 0.5279 - accuracy: 0.7440 - 1s/epoch - 1ms/step\n",
            "Epoch 87/100\n",
            "804/804 - 1s - loss: 0.5282 - accuracy: 0.7442 - 1s/epoch - 2ms/step\n",
            "Epoch 88/100\n",
            "804/804 - 1s - loss: 0.5277 - accuracy: 0.7434 - 1s/epoch - 2ms/step\n",
            "Epoch 89/100\n",
            "804/804 - 1s - loss: 0.5278 - accuracy: 0.7435 - 1s/epoch - 2ms/step\n",
            "Epoch 90/100\n",
            "804/804 - 1s - loss: 0.5282 - accuracy: 0.7431 - 1s/epoch - 2ms/step\n",
            "Epoch 91/100\n",
            "804/804 - 1s - loss: 0.5275 - accuracy: 0.7439 - 1s/epoch - 2ms/step\n",
            "Epoch 92/100\n",
            "804/804 - 1s - loss: 0.5278 - accuracy: 0.7438 - 1s/epoch - 2ms/step\n",
            "Epoch 93/100\n",
            "804/804 - 1s - loss: 0.5278 - accuracy: 0.7432 - 1s/epoch - 2ms/step\n",
            "Epoch 94/100\n",
            "804/804 - 2s - loss: 0.5276 - accuracy: 0.7437 - 2s/epoch - 2ms/step\n",
            "Epoch 95/100\n",
            "804/804 - 1s - loss: 0.5278 - accuracy: 0.7442 - 1s/epoch - 2ms/step\n",
            "Epoch 96/100\n",
            "804/804 - 1s - loss: 0.5273 - accuracy: 0.7434 - 1s/epoch - 2ms/step\n",
            "Epoch 97/100\n",
            "804/804 - 1s - loss: 0.5280 - accuracy: 0.7442 - 1s/epoch - 2ms/step\n",
            "Epoch 98/100\n",
            "804/804 - 1s - loss: 0.5274 - accuracy: 0.7444 - 1s/epoch - 2ms/step\n",
            "Epoch 99/100\n",
            "804/804 - 1s - loss: 0.5274 - accuracy: 0.7438 - 1s/epoch - 2ms/step\n",
            "Epoch 100/100\n",
            "804/804 - 1s - loss: 0.5275 - accuracy: 0.7435 - 1s/epoch - 2ms/step\n"
          ]
        },
        {
          "output_type": "execute_result",
          "data": {
            "text/plain": [
              "<keras.src.callbacks.History at 0x7f19393f1f90>"
            ]
          },
          "metadata": {},
          "execution_count": 25
        }
      ]
    },
    {
      "cell_type": "code",
      "source": [
        "# Evaluating the model\n",
        "model_loss, model_accuracy = model.evaluate(X_test_scaled, y_test, verbose=2)\n",
        "print(f\"Loss: {model_loss}, Accuracy: {model_accuracy}\")"
      ],
      "metadata": {
        "colab": {
          "base_uri": "https://localhost:8080/"
        },
        "id": "oV6Gh2sxV3ak",
        "outputId": "30e64502-1c05-4ee4-dd5c-3e965db632ac"
      },
      "execution_count": 26,
      "outputs": [
        {
          "output_type": "stream",
          "name": "stdout",
          "text": [
            "268/268 - 0s - loss: 0.5619 - accuracy: 0.7250 - 425ms/epoch - 2ms/step\n",
            "Loss: 0.5619218349456787, Accuracy: 0.7250145673751831\n"
          ]
        }
      ]
    },
    {
      "cell_type": "code",
      "source": [
        "# Saving the model\n",
        "model.save(\"SecondAlphabetSoupCharity_Optimization.h5\")"
      ],
      "metadata": {
        "colab": {
          "base_uri": "https://localhost:8080/"
        },
        "id": "I_rGRBpiV8AR",
        "outputId": "28c2dd29-b5fd-46c1-fc0d-f1c2ffd98284"
      },
      "execution_count": 27,
      "outputs": [
        {
          "output_type": "stream",
          "name": "stderr",
          "text": [
            "/usr/local/lib/python3.10/dist-packages/keras/src/engine/training.py:3103: UserWarning: You are saving your model as an HDF5 file via `model.save()`. This file format is considered legacy. We recommend using instead the native Keras format, e.g. `model.save('my_model.keras')`.\n",
            "  saving_api.save_model(\n"
          ]
        }
      ]
    }
  ]
}